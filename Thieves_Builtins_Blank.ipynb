{
 "cells": [
  {
   "attachments": {},
   "cell_type": "markdown",
   "metadata": {},
   "source": [
    "# Map, Filter, Reduce, Lambda & Recursion"
   ]
  },
  {
   "attachments": {},
   "cell_type": "markdown",
   "metadata": {},
   "source": [
    "## Tasks Today:\n",
    "\n",
    "1) <b>Lambda Functions</b> <br>\n",
    " &nbsp;&nbsp;&nbsp;&nbsp; a) Syntax <br>\n",
    " &nbsp;&nbsp;&nbsp;&nbsp; b) Saving to a Variable <br>\n",
    " &nbsp;&nbsp;&nbsp;&nbsp; c) Multiple Inputs <br>\n",
    " &nbsp;&nbsp;&nbsp;&nbsp; d) Passing a Lambda into a Function <br>\n",
    " &nbsp;&nbsp;&nbsp;&nbsp; e) Returning a Lambda from a Function <br>\n",
    " &nbsp;&nbsp;&nbsp;&nbsp; f) In-Class Exercise #1 <br>\n",
    "2) <b>Map</b> <br>\n",
    " &nbsp;&nbsp;&nbsp;&nbsp; a) Syntax <br>\n",
    " &nbsp;&nbsp;&nbsp;&nbsp; b) Using Lambda's with Map <br>\n",
    " &nbsp;&nbsp;&nbsp;&nbsp; c) In-Class Exercise #2 <br>\n",
    "3) <b>Filter</b> <br>\n",
    " &nbsp;&nbsp;&nbsp;&nbsp; a) Syntax <br>\n",
    " &nbsp;&nbsp;&nbsp;&nbsp; b) Using Lambda's with Filter <br>\n",
    " &nbsp;&nbsp;&nbsp;&nbsp; c) In-Class Exercise #3 <br>\n",
    "4) <b>Reduce</b> <br>\n",
    " &nbsp;&nbsp;&nbsp;&nbsp; a) Syntax <br>\n",
    " &nbsp;&nbsp;&nbsp;&nbsp; b) Using Lambda's with Reduce <br>\n",
    " &nbsp;&nbsp;&nbsp;&nbsp; c) In-Class Exercise #4 <br>\n",
    "5) <b>Recursion</b> <br>\n",
    " &nbsp;&nbsp;&nbsp;&nbsp; a) Implementing a Base <br>\n",
    " &nbsp;&nbsp;&nbsp;&nbsp; b) Writing a Factorial Function <br>\n",
    " &nbsp;&nbsp;&nbsp;&nbsp; c) In-Class Exercise #5 <br>\n",
    "6) <b>Generators & Iterators</b> <br>\n",
    " &nbsp;&nbsp;&nbsp;&nbsp; a) Yield Keyword <br>\n",
    " &nbsp;&nbsp;&nbsp;&nbsp; b) Inifinite Generator <br>\n",
    " &nbsp;&nbsp;&nbsp;&nbsp; c) In-Class Exercise #6 <br>\n",
    "7) <b>Exercises</b> <br>\n",
    " &nbsp;&nbsp;&nbsp;&nbsp; a) Exercise #1 - Filtering Empty Strings <br>\n",
    " &nbsp;&nbsp;&nbsp;&nbsp; b) Exercise #2 - Sorting with Last Name <br>\n",
    " &nbsp;&nbsp;&nbsp;&nbsp; c) Exercise #3 - Conversion to Farhenheit <br>\n",
    " &nbsp;&nbsp;&nbsp;&nbsp; d) Exercise #4 - Fibonacci Sequence <br>"
   ]
  },
  {
   "attachments": {},
   "cell_type": "markdown",
   "metadata": {},
   "source": [
    "## Lambda Functions <br>\n",
    "<p>Lambda functions... or \"Anonymous Functions\" are referring to inline functions with no name. The keyword lambda denotes the no name function, and executes within a single line. Without saving it to a variable; however, it is not able to be used, unless passed in either as a paramater or within list comprehension.<br>Written as \"(keyword lambda) (one or more inputs) (colon) (function to be executed)\"</p>"
   ]
  },
  {
   "attachments": {},
   "cell_type": "markdown",
   "metadata": {},
   "source": [
    "#### Syntax"
   ]
  },
  {
   "cell_type": "code",
   "execution_count": 71,
   "metadata": {},
   "outputs": [
    {
     "name": "stdout",
     "output_type": "stream",
     "text": [
      "<function <lambda> at 0x7f979534f0d0>\n",
      "5\n"
     ]
    }
   ],
   "source": [
    "# Lambda parameters: espression\n",
    "\n",
    "print(lambda num: num + 1)\n",
    "\n",
    "print((lambda num: num +1)(4))"
   ]
  },
  {
   "attachments": {},
   "cell_type": "markdown",
   "metadata": {},
   "source": [
    "#### Saving to a Variable"
   ]
  },
  {
   "cell_type": "code",
   "execution_count": 72,
   "metadata": {},
   "outputs": [
    {
     "name": "stdout",
     "output_type": "stream",
     "text": [
      "5\n"
     ]
    }
   ],
   "source": [
    "addone = lambda num: num + 1\n",
    "\n",
    "print(addone(4))"
   ]
  },
  {
   "attachments": {},
   "cell_type": "markdown",
   "metadata": {},
   "source": [
    "#### Multiple Inputs"
   ]
  },
  {
   "cell_type": "code",
   "execution_count": 73,
   "metadata": {},
   "outputs": [
    {
     "name": "stdout",
     "output_type": "stream",
     "text": [
      "12\n"
     ]
    }
   ],
   "source": [
    "find_volume = lambda length,width,height: length * width * height\n",
    "\n",
    "print(find_volume(2,2,3))"
   ]
  },
  {
   "attachments": {},
   "cell_type": "markdown",
   "metadata": {},
   "source": [
    "#### Passing a Lambda into a Function"
   ]
  },
  {
   "cell_type": "code",
   "execution_count": 74,
   "metadata": {},
   "outputs": [
    {
     "name": "stdout",
     "output_type": "stream",
     "text": [
      "16\n"
     ]
    }
   ],
   "source": [
    "def multiply(function,num):\n",
    "    return function(num)\n",
    "\n",
    "print(multiply(lambda num: num *num, 4))"
   ]
  },
  {
   "attachments": {},
   "cell_type": "markdown",
   "metadata": {},
   "source": [
    "#### Returning a Lambda from a Function"
   ]
  },
  {
   "cell_type": "code",
   "execution_count": 75,
   "metadata": {},
   "outputs": [
    {
     "name": "stdout",
     "output_type": "stream",
     "text": [
      "16\n",
      "125\n"
     ]
    }
   ],
   "source": [
    "def set_exponet(num):\n",
    "    return lambda l_num: l_num ** num\n",
    "\n",
    "square = set_exponet(2) # lambda l_num: l_num **2\n",
    "\n",
    "print(square(4))\n",
    "\n",
    "cube = set_exponet(3) # lambda l_num: l_num **3\n",
    "\n",
    "print(cube(5))"
   ]
  },
  {
   "attachments": {},
   "cell_type": "markdown",
   "metadata": {},
   "source": [
    "#### If Statements within Lambdas"
   ]
  },
  {
   "cell_type": "code",
   "execution_count": 76,
   "metadata": {},
   "outputs": [
    {
     "name": "stdout",
     "output_type": "stream",
     "text": [
      "5 is odd\n"
     ]
    }
   ],
   "source": [
    "# Lamdba x: True if (condition) else False\n",
    "\n",
    "is_even = lambda num: f'{num} is even' if num % 2 == 0 else f'{num} is odd'\n",
    "\n",
    "print(is_even(5))"
   ]
  },
  {
   "attachments": {},
   "cell_type": "markdown",
   "metadata": {},
   "source": [
    "#### In-Class Exercise #1 <br>\n",
    "<p>Write an anonymous function that cubes the arguments passed in and assign the anonymous function to a variable 'f'.</p>"
   ]
  },
  {
   "cell_type": "code",
   "execution_count": 77,
   "metadata": {},
   "outputs": [
    {
     "name": "stdout",
     "output_type": "stream",
     "text": [
      "25\n"
     ]
    }
   ],
   "source": [
    "f = lambda num: num**2 \n",
    "\n",
    "\n",
    "print(f(5))"
   ]
  },
  {
   "attachments": {},
   "cell_type": "markdown",
   "metadata": {},
   "source": [
    "## Map <br>\n",
    "<p>The map function allows you to iterate over an entire list while running a function on each item of the list. This is why the map function works well with lambda's, because it simplifies things and you write less lines of code.<br>The syntax for a map function is \"map(function to be used, list to be used)\"<br>However, you must be careful, as the map function returns a map object, not a list. To turn it into a list we use the list() type conversion.</p>"
   ]
  },
  {
   "attachments": {},
   "cell_type": "markdown",
   "metadata": {},
   "source": [
    "#### Syntax"
   ]
  },
  {
   "cell_type": "code",
   "execution_count": 78,
   "metadata": {},
   "outputs": [
    {
     "name": "stdout",
     "output_type": "stream",
     "text": [
      "[24, 90, 4, 68]\n",
      "[24, 90, 4, 68]\n"
     ]
    }
   ],
   "source": [
    "# map(function, iterable(string,dict,list,set))\n",
    "\n",
    "my_list = 12,45,2,34\n",
    "\n",
    "def double_nums(alist):\n",
    "    doubled =[]\n",
    "    for num in alist:\n",
    "        doubled.append(num*2)\n",
    "    return doubled\n",
    "\n",
    "print(double_nums(my_list))\n",
    "\n",
    "def map_double(num):\n",
    "    return num * 2\n",
    "\n",
    "print(list(map(map_double,my_list)))"
   ]
  },
  {
   "attachments": {},
   "cell_type": "markdown",
   "metadata": {},
   "source": [
    "#### Using Lambda's with Map"
   ]
  },
  {
   "cell_type": "code",
   "execution_count": 79,
   "metadata": {},
   "outputs": [
    {
     "name": "stdout",
     "output_type": "stream",
     "text": [
      "[24, 90, 4, 68]\n"
     ]
    }
   ],
   "source": [
    "print(list(map(lambda num: num*2, my_list)))\n",
    "\n"
   ]
  },
  {
   "attachments": {},
   "cell_type": "markdown",
   "metadata": {},
   "source": [
    "#### In-Class Exercise #2 <br>\n",
    "<p>Use the map function to double each number and minus it by one in the list by using a lambda function</p>"
   ]
  },
  {
   "cell_type": "code",
   "execution_count": 80,
   "metadata": {},
   "outputs": [
    {
     "name": "stdout",
     "output_type": "stream",
     "text": [
      "[3, 11, 197, 3, 89, 111]\n"
     ]
    }
   ],
   "source": [
    "listy= [2,6,99,2,45,56]\n",
    "\n",
    "new_new =list(map(lambda numy: numy *2 -1, listy))\n",
    "\n",
    "print(new_new)"
   ]
  },
  {
   "attachments": {},
   "cell_type": "markdown",
   "metadata": {},
   "source": [
    "## Filter() <br>\n",
    "<p>Filter's are similar to the map function, where you're able to pass a function argument and a list argument and filter out something from the list based on the conditions passed. Similar to the map function, it returns a filter object, so you need to type convert it to a list()</p>"
   ]
  },
  {
   "attachments": {},
   "cell_type": "markdown",
   "metadata": {},
   "source": [
    "#### Syntax"
   ]
  },
  {
   "cell_type": "code",
   "execution_count": 81,
   "metadata": {},
   "outputs": [
    {
     "name": "stdout",
     "output_type": "stream",
     "text": [
      "[1, 23]\n"
     ]
    },
    {
     "data": {
      "text/plain": [
       "[1, 23]"
      ]
     },
     "execution_count": 81,
     "metadata": {},
     "output_type": "execute_result"
    }
   ],
   "source": [
    "def only_odds(alist):\n",
    "    odd_nums = []\n",
    "    for num in alist:\n",
    "        if num % 2 !=0:\n",
    "            odd_nums.append(num)\n",
    "    return odd_nums\n",
    "\n",
    "new_list = [1, 12, 54, 23456, 23]\n",
    "\n",
    "print(only_odds(new_list))\n",
    "\n",
    "# True if (condition) else False\n",
    "\n",
    "\n",
    "\n",
    "def filter_odds(num):\n",
    "    return True if num % 2 != 0 else False\n",
    "\n",
    "def filter_odds(num):\n",
    "    return num % 2 != 0 \n",
    "\n",
    "\n",
    "list(filter(filter_odds, new_list))\n",
    "\n",
    "\n",
    "  "
   ]
  },
  {
   "attachments": {},
   "cell_type": "markdown",
   "metadata": {},
   "source": [
    "#### Using Lambda's with Filter()"
   ]
  },
  {
   "cell_type": "code",
   "execution_count": 82,
   "metadata": {},
   "outputs": [
    {
     "name": "stdout",
     "output_type": "stream",
     "text": [
      "False\n",
      "[1, 23]\n",
      "[1, 23]\n"
     ]
    }
   ],
   "source": [
    "one=list(filter(lambda num: True if num %2 != 0 else False, new_list))\n",
    "\n",
    "# or\n",
    "\n",
    "two=list(filter(lambda num: num %2 != 0, new_list))\n",
    "\n",
    "\n",
    "#how python reads this expression\n",
    "print(2 % 2 != 0)\n",
    "\n",
    "print(one)\n",
    "print(two)"
   ]
  },
  {
   "attachments": {},
   "cell_type": "markdown",
   "metadata": {},
   "source": [
    "#### In-Class Exercise #3 <br>\n",
    "<p>Filter out all the numbers that are below the mean of the list.<br><b>Hint: Import the 'statistics' module</b></p>"
   ]
  },
  {
   "cell_type": "code",
   "execution_count": 83,
   "metadata": {},
   "outputs": [
    {
     "name": "stdout",
     "output_type": "stream",
     "text": [
      "35\n",
      "[2, 6, 2]\n"
     ]
    }
   ],
   "source": [
    "alist = [2,6,99,2,45,56]\n",
    "\n",
    "import statistics as stats\n",
    "\n",
    "meany= (stats.mean(alist))\n",
    "\n",
    "filter_meany=list(filter(lambda num: num < meany,alist))\n",
    "\n",
    "print(meany)\n",
    "print(filter_meany)"
   ]
  },
  {
   "attachments": {},
   "cell_type": "markdown",
   "metadata": {},
   "source": [
    "## Reduce() <br>\n",
    "<p>Be very careful when using this function, as of Python 3 it's been moved to the 'functools' library and no longer is a built-in function.<br>The creator of Python himself, says to just use a for loop instead.</p>"
   ]
  },
  {
   "attachments": {},
   "cell_type": "markdown",
   "metadata": {},
   "source": [
    "#### Syntax"
   ]
  },
  {
   "cell_type": "code",
   "execution_count": 84,
   "metadata": {},
   "outputs": [
    {
     "name": "stdout",
     "output_type": "stream",
     "text": [
      "21\n",
      "1 2\n",
      "3 3\n",
      "6 4\n",
      "10 5\n",
      "15 6\n",
      "21\n"
     ]
    }
   ],
   "source": [
    "from functools import reduce\n",
    "\n",
    "new_list = [1,2,3,4,5,6]\n",
    "\n",
    "def add_nums(alist):\n",
    "    total = 0\n",
    "    for num in alist:\n",
    "        total += num\n",
    "    return total\n",
    "\n",
    "print(add_nums(new_list))\n",
    "\n",
    "# reduce(function, iterable)\n",
    "\n",
    "def reduce_add(num1,num2):\n",
    "    print(num1,num2)\n",
    "    return num1 + num2\n",
    "\n",
    "print(reduce(reduce_add,new_list))\n",
    "    \n"
   ]
  },
  {
   "attachments": {},
   "cell_type": "markdown",
   "metadata": {},
   "source": [
    "#### Using Lambda's with Reduce()"
   ]
  },
  {
   "cell_type": "code",
   "execution_count": 85,
   "metadata": {},
   "outputs": [
    {
     "name": "stdout",
     "output_type": "stream",
     "text": [
      "21\n"
     ]
    }
   ],
   "source": [
    "\n",
    "new_list = [1,2,3,4,5,6]\n",
    "\n",
    "reducey= reduce(lambda num1, num2: num1 + num2,new_list)\n",
    "\n",
    "print(reducey)"
   ]
  },
  {
   "attachments": {},
   "cell_type": "markdown",
   "metadata": {},
   "source": [
    "#### In-Class Exercise #4 <br>\n",
    "<p>Use the reduce function to multiply the numbers in the list below together with a lambda function.</p>"
   ]
  },
  {
   "cell_type": "code",
   "execution_count": 86,
   "metadata": {},
   "outputs": [
    {
     "name": "stdout",
     "output_type": "stream",
     "text": [
      "720\n"
     ]
    }
   ],
   "source": [
    "new_list = [1,2,3,4,5,6]\n",
    "\n",
    "reducey= reduce(lambda num1, num2: num1 * num2,new_list)\n",
    "\n",
    "print(reducey)"
   ]
  },
  {
   "attachments": {},
   "cell_type": "markdown",
   "metadata": {},
   "source": [
    "## Recursion <br>\n",
    "<p>Recursion means that a function is calling itself, so it contanstly executes until a base case is reached. It will then push the returning values back up the chain until the function is complete. A prime example of recursion is computing factorials... such that 5! (factorial) is 5*4*3*2*1 which equals 120.</p>"
   ]
  },
  {
   "attachments": {},
   "cell_type": "markdown",
   "metadata": {},
   "source": [
    "#### Implementing a Base Case"
   ]
  },
  {
   "cell_type": "code",
   "execution_count": 87,
   "metadata": {},
   "outputs": [
    {
     "name": "stdout",
     "output_type": "stream",
     "text": [
      " add_nums(5) = 5 + add_nums(4)\n",
      " add_nums(4) = 4 + add_nums(3)\n",
      " add_nums(3) = 3 + add_nums(2)\n",
      " add_nums(2) = 2 + add_nums(1)\n",
      " add_nums(1) = 1\n",
      "15\n"
     ]
    }
   ],
   "source": [
    "def add_nums(num): \n",
    "    # 5 + 4 + 3 + 2 + 1 = 15\n",
    "    if num <=1:\n",
    "        # recursive case\n",
    "        print(f' add_nums({num}) = {num}')\n",
    "        return num\n",
    "\n",
    "    else:\n",
    "        print(f' add_nums({num}) = {num} + add_nums({num-1})')\n",
    "        return num + add_nums(num -1)\n",
    "    \n",
    "print(add_nums(5))\n"
   ]
  },
  {
   "attachments": {},
   "cell_type": "markdown",
   "metadata": {},
   "source": [
    "#### Writing a Factorial Function"
   ]
  },
  {
   "cell_type": "code",
   "execution_count": 88,
   "metadata": {},
   "outputs": [
    {
     "name": "stdout",
     "output_type": "stream",
     "text": [
      " fact_nums(5) = 5 * fact_nums(4)\n",
      " fact_nums(4) = 4 * fact_nums(3)\n",
      " fact_nums(3) = 3 * fact_nums(2)\n",
      " fact_nums(2) = 2 * fact_nums(1)\n",
      " fact_nums(1) = 1\n",
      "120\n"
     ]
    }
   ],
   "source": [
    "def fact_nums(num): \n",
    "    # 5 * 4 * 3 * 2 * 1 = 120\n",
    "    if num <=1:\n",
    "        # recursive case\n",
    "        print(f' fact_nums({num}) = {num}')\n",
    "        return num\n",
    "\n",
    "    else:\n",
    "        print(f' fact_nums({num}) = {num} * fact_nums({num-1})')\n",
    "        return num * fact_nums(num -1)\n",
    "    \n",
    "print(fact_nums(5))"
   ]
  },
  {
   "attachments": {},
   "cell_type": "markdown",
   "metadata": {},
   "source": [
    "#### In-Class Exercise #5 <br>\n",
    "<p>Write a recursive function that subtracts all numbers to the argument given.</p>"
   ]
  },
  {
   "cell_type": "code",
   "execution_count": 89,
   "metadata": {},
   "outputs": [
    {
     "name": "stdout",
     "output_type": "stream",
     "text": [
      " sub_nums(5) = 5 - sub_nums(4)\n",
      " sub_nums(4) = 4 - sub_nums(3)\n",
      " sub_nums(3) = 3 - sub_nums(2)\n",
      " sub_nums(2) = 2 - sub_nums(1)\n",
      " sub_nums(1) = 1\n",
      "3\n"
     ]
    }
   ],
   "source": [
    "def sub_nums(num): \n",
    "    # 5 - 4 - 3 - 2 - 1 = 3\n",
    "    if num <=1:\n",
    "        # recursive case\n",
    "        print(f' sub_nums({num}) = {num}')\n",
    "        return num\n",
    "\n",
    "    else:\n",
    "        print(f' sub_nums({num}) = {num} - sub_nums({num-1})')\n",
    "        return num - sub_nums(num -1)\n",
    "    \n",
    "print(sub_nums(5))"
   ]
  },
  {
   "attachments": {},
   "cell_type": "markdown",
   "metadata": {},
   "source": [
    "## Generators <br>\n",
    "<p>Generators are a type of iterable, like lists or tuples. They do not allow indexing, but they can still be iterated through with for loops. They are created using functions and the yield statement.</p>"
   ]
  },
  {
   "attachments": {},
   "cell_type": "markdown",
   "metadata": {},
   "source": [
    "#### Yield Keyword <br>\n",
    "<p>The yield keyword denotes a generator, it doesn't return so it won't leave the function and reset all variables in the function scope, instead it yields the number back to the caller.</p>"
   ]
  },
  {
   "cell_type": "code",
   "execution_count": 90,
   "metadata": {},
   "outputs": [
    {
     "name": "stdout",
     "output_type": "stream",
     "text": [
      "0\n",
      "1\n",
      "2\n",
      "[3, 4, 5, 6, 7, 8, 9, 10, 11, 12]\n"
     ]
    }
   ],
   "source": [
    "def my_generator():\n",
    "    num = 0\n",
    "    while True:\n",
    "        yield num\n",
    "        num +=1\n",
    "\n",
    "generate = my_generator()\n",
    "\n",
    "print(next(generate))\n",
    "print(next(generate))\n",
    "print(next(generate))\n",
    "\n",
    "my_list = []\n",
    "\n",
    "for i in range(10):\n",
    "    my_list.append(next(generate))\n",
    "\n",
    "print(my_list)\n"
   ]
  },
  {
   "attachments": {},
   "cell_type": "markdown",
   "metadata": {},
   "source": [
    "#### Infinite Generator"
   ]
  },
  {
   "cell_type": "code",
   "execution_count": 91,
   "metadata": {},
   "outputs": [],
   "source": [
    "# bad, never create infinite loops"
   ]
  },
  {
   "attachments": {},
   "cell_type": "markdown",
   "metadata": {},
   "source": [
    "#### In-Class Exercise #6 <br>\n",
    "<p>Create a generator that takes a number argument and yields that number squared, then prints each number squared until zero is reached.</p>"
   ]
  },
  {
   "cell_type": "code",
   "execution_count": 92,
   "metadata": {},
   "outputs": [
    {
     "name": "stdout",
     "output_type": "stream",
     "text": [
      "100\n",
      "81\n",
      "64\n",
      "49\n",
      "36\n",
      "25\n",
      "16\n",
      "9\n",
      "4\n",
      "1\n"
     ]
    }
   ],
   "source": [
    "def sqr_gen(num):\n",
    "    while num > 0:\n",
    "        yield num **2\n",
    "        num -=1\n",
    "\n",
    "for i in sqr_gen(10):\n",
    "    print(i)\n"
   ]
  },
  {
   "attachments": {},
   "cell_type": "markdown",
   "metadata": {},
   "source": [
    "# Exercises"
   ]
  },
  {
   "attachments": {},
   "cell_type": "markdown",
   "metadata": {},
   "source": [
    "### Exercise #1 <br>\n",
    "<p>Filter out all of the empty strings from the list below</p>\n",
    "\n",
    "`Output: ['Argentina', 'San Diego', 'Boston', 'New York']`"
   ]
  },
  {
   "cell_type": "code",
   "execution_count": 1,
   "metadata": {},
   "outputs": [
    {
     "name": "stdout",
     "output_type": "stream",
     "text": [
      "['Argentina', 'San Diego', 'Boston', 'New York']\n"
     ]
    }
   ],
   "source": [
    "\n",
    "\n",
    "\n",
    "places = [\" \",\"Argentina\", \" \", \"San Diego\",\"\",\"  \",\"\",\"Boston\",\"New York\"]\n",
    "\n",
    "\n",
    "\n",
    "def filter_places(place):\n",
    "     return  place.strip()\n",
    "       \n",
    "        \n",
    "     \n",
    "\n",
    "\n",
    "new_place= list(filter(filter_places, places))\n",
    "\n",
    "with_lambda = list(filter(lambda place: place.strip(),places))\n",
    "\n",
    "# print(filter_places(places))\n",
    "\n",
    "print(new_place)\n",
    "\n",
    "\n",
    "# def filter_odds(num):\n",
    "#     return True if num % 2 != 0 else False\n",
    "\n",
    "# def filter_odds(num):\n",
    "#     return num % 2 != 0 \n",
    "\n",
    "\n",
    "# list(filter(filter_odds, new_list))\n",
    "\n",
    "\n",
    "\n",
    "\n"
   ]
  },
  {
   "attachments": {},
   "cell_type": "markdown",
   "metadata": {},
   "source": [
    "### Exercise #2 <br>\n",
    "<p>Write an anonymous function that sorts this list by the last name...<br><b>Hint: Use the \".sort()\" method and access the key\"</b></p>\n",
    "\n",
    "`Output: ['Victor aNisimov', 'Gary A.J. Bernstein', 'Joel Carter', 'Andrew P. Garfield', 'David hassELHOFF']`"
   ]
  },
  {
   "cell_type": "code",
   "execution_count": 5,
   "metadata": {},
   "outputs": [
    {
     "name": "stdout",
     "output_type": "stream",
     "text": [
      "carter\n",
      "['Victor aNisimov', 'Gary A.J. Bernstein', 'Joel Carter', 'Andrew P. Garfield', 'David hassELHOFF']\n"
     ]
    }
   ],
   "source": [
    "author = [\"Joel Carter\", \"Victor aNisimov\", \"Andrew P. Garfield\",\"David hassELHOFF\",\"Gary A.J. Bernstein\"]\n",
    "\n",
    "# https://www.w#schools.com/python/ref_lst_sort.asp\n",
    "\n",
    "# def my func(e):\n",
    "# return(len(E)) starting with the smallest length and getting to the higher one\n",
    "#carts.sort(key=my func) maybe setting up with a lambda\n",
    "\n",
    "#build a key that will hone in on the last name of each person\n",
    "\n",
    "def lastname_key(name):\n",
    "    mylist = name.lower().split()\n",
    "    return mylist[-1]\n",
    "\n",
    "print(lastname_key('Joel Carter'))\n",
    "\n",
    "author.sort(key=lastname_key)\n",
    "\n",
    "print(author)\n",
    "\n",
    "\n",
    "# def book(authors):\n",
    "#     for a in authors:\n",
    "#         a.sort(len(a))\n",
    "#         return a\n",
    "\n",
    "# print(book(author))\n",
    "\n"
   ]
  },
  {
   "attachments": {},
   "cell_type": "markdown",
   "metadata": {},
   "source": [
    "### Exercise #3 <br>\n",
    "<p>Convert the list below from Celsius to Farhenheit, using the map function with a lambda...</p>\n",
    "\n",
    "`Output: [('Nashua', 89.6), ('Boston', 53.6), ('Los Angelos', 111.2), ('Miami', 84.2)]\n",
    "`"
   ]
  },
  {
   "cell_type": "code",
   "execution_count": 10,
   "metadata": {},
   "outputs": [
    {
     "name": "stdout",
     "output_type": "stream",
     "text": [
      "[('Nashua', 89.6), ('Boston', 53.6), ('Los Angelos', 111.2), ('Miami', 84.2)]\n"
     ]
    }
   ],
   "source": [
    "\n",
    "import re\n",
    "# F = (9/5)*C + 32\n",
    "places = [('Nashua',32),(\"Boston\",12),(\"Los Angelos\",44),(\"Miami\",29)]\n",
    "\n",
    "# conver_l = list(map(lambda num_d: num_d == (num_d)(9/5) * num_d + 32,places))\n",
    "\n",
    "# places = dict(places)\n",
    "\n",
    "# for key, value in places.items():\n",
    "#     new=(lambda value: value == value, 9/5 * value + 32, places)\n",
    "#     places[key]=new\n",
    "#     print(new)\n",
    "    \n",
    "\n",
    "# print(places)\n",
    "\n",
    "def temp_con(place):\n",
    "    return ( place[0], (9/5)*place[1]+32)\n",
    "\n",
    "\n",
    "new_new =list(map(temp_con , places))\n",
    "\n",
    "print(new_new)\n",
    "\n",
    "\n",
    "\n"
   ]
  },
  {
   "attachments": {},
   "cell_type": "markdown",
   "metadata": {},
   "source": [
    "### Exercise #4 <br>\n",
    "<p>Write a recursion function to perform the fibonacci sequence up to the number passed in.</p>\n",
    "\n",
    "`Output for fib(5) => \n",
    "Iteration 0: 1\n",
    "Iteration 1: 1\n",
    "Iteration 2: 2\n",
    "Iteration 3: 3\n",
    "Iteration 4: 5\n",
    "Iteration 5: 8`"
   ]
  },
  {
   "cell_type": "code",
   "execution_count": 35,
   "metadata": {
    "scrolled": true
   },
   "outputs": [
    {
     "name": "stdout",
     "output_type": "stream",
     "text": [
      "0 0\n",
      "1 1\n",
      "2 2\n",
      "3 3\n",
      "4 4\n",
      "5 5\n",
      "6 6\n",
      "7 7\n",
      "8 8\n",
      "None\n"
     ]
    }
   ],
   "source": [
    "# extra credit\n",
    "\n",
    "def add_nums(num): \n",
    "   for n in range(num):\n",
    "    new = n+n\n",
    "    print(n,new)\n",
    "\n",
    "\n",
    "\n",
    "print(add_nums(9))\n",
    "\n",
    "    \n",
    "\n",
    "\n",
    "\n"
   ]
  }
 ],
 "metadata": {
  "kernelspec": {
   "display_name": "Python 3",
   "language": "python",
   "name": "python3"
  },
  "language_info": {
   "codemirror_mode": {
    "name": "ipython",
    "version": 3
   },
   "file_extension": ".py",
   "mimetype": "text/x-python",
   "name": "python",
   "nbconvert_exporter": "python",
   "pygments_lexer": "ipython3",
   "version": "3.9.12"
  }
 },
 "nbformat": 4,
 "nbformat_minor": 2
}
